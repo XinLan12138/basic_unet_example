{
 "cells": [
  {
   "cell_type": "code",
   "execution_count": 3,
   "metadata": {},
   "outputs": [],
   "source": [
    "import matplotlib\n",
    "matplotlib.use('Agg')\n",
    "\n",
    "import os\n",
    "from os.path import exists\n",
    "\n",
    "from configs.Config_unet import get_config\n",
    "from datasets.example_dataset.create_splits import create_splits\n",
    "from datasets.example_dataset.download_dataset import download_dataset\n",
    "from datasets.example_dataset.preprocessing import preprocess_data\n",
    "from experiments.UNetExperiment import UNetExperiment"
   ]
  },
  {
   "cell_type": "code",
   "execution_count": null,
   "metadata": {},
   "outputs": [
    {
     "name": "stdout",
     "output_type": "stream",
     "text": [
      "{\n",
      "    \"append_rnd_string\": false,\n",
      "    \"author\": \"Yujie\",\n",
      "    \"base_dir\": \"G:\\\\#DL_final\\\\beginner\\\\basic_unet_example\\\\output_experiment\",\n",
      "    \"batch_size\": 8,\n",
      "    \"checkpoint_dir\": \"\",\n",
      "    \"data_dir\": \"G:\\\\#DL_final\\\\beginner\\\\basic_unet_example\\\\data\\\\Task04_Hippocampus/preprocessed\",\n",
      "    \"data_root_dir\": \"G:\\\\#DL_final\\\\beginner\\\\basic_unet_example\\\\data\",\n",
      "    \"data_test_dir\": \"G:\\\\#DL_final\\\\beginner\\\\basic_unet_example\\\\data\\\\Task04_Hippocampus/preprocessed\",\n",
      "    \"dataset_name\": \"Task04_Hippocampus\",\n",
      "    \"device\": \"cuda\",\n",
      "    \"do_instancenorm\": true,\n",
      "    \"do_load_checkpoint\": false,\n",
      "    \"fold\": 0,\n",
      "    \"google_drive_id\": \"1RzPB1_bqzQhlWvU-YGvZzhx2omcDh38C\",\n",
      "    \"in_channels\": 1,\n",
      "    \"learning_rate\": 0.0002,\n",
      "    \"n_epochs\": 10,\n",
      "    \"name\": \"Basic_Unet\",\n",
      "    \"num_classes\": 3,\n",
      "    \"patch_size\": 64,\n",
      "    \"plot_freq\": 10,\n",
      "    \"split_dir\": \"G:\\\\#DL_final\\\\beginner\\\\basic_unet_example\\\\data\\\\Task04_Hippocampus\",\n",
      "    \"start_visdom\": true\n",
      "}\n",
      "Downloading 1RzPB1_bqzQhlWvU-YGvZzhx2omcDh38C into G:\\#DL_final\\beginner\\basic_unet_example\\data\\Task04_Hippocampus.tar... "
     ]
    }
   ],
   "source": [
    "c = get_config()\n",
    "# 下载在 `data/`\n",
    "download_dataset(dest_path=c.data_root_dir, dataset=c.dataset_name, id=c.google_drive_id)"
   ]
  },
  {
   "cell_type": "code",
   "execution_count": null,
   "metadata": {},
   "outputs": [],
   "source": []
  }
 ],
 "metadata": {
  "kernelspec": {
   "display_name": "Python 3",
   "language": "python",
   "name": "python3"
  },
  "language_info": {
   "codemirror_mode": {
    "name": "ipython",
    "version": 3
   },
   "file_extension": ".py",
   "mimetype": "text/x-python",
   "name": "python",
   "nbconvert_exporter": "python",
   "pygments_lexer": "ipython3",
   "version": "3.5.6"
  }
 },
 "nbformat": 4,
 "nbformat_minor": 4
}
